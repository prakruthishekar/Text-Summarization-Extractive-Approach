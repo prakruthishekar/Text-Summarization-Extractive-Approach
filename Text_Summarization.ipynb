{
  "cells": [
    {
      "cell_type": "markdown",
      "metadata": {
        "id": "WYdMwvYn42jw"
      },
      "source": [
        "# **Text Summarization using NLP**\n",
        "\n",
        "\n",
        "**What is text summarization?**\n",
        "\n",
        "Text summarization is the process of distilling the most important information from a source text."
      ]
    },
    {
      "cell_type": "markdown",
      "metadata": {
        "id": "QSmeHW7R6FEF"
      },
      "source": [
        "**Why automatic text summarization?**\n",
        "\n",
        "\n",
        "\n",
        "1.   Summaries reduce reading time.\n",
        "2.   When researching documents,summaries make the  selection process easier.\n",
        "3.   Automatic summarization improves the effectiveness of indexing.\n",
        "4.   Automatice summarization algorithms are less biased than human summarization.\n",
        "5.   Personalized summaries are useful in question-answering systems as they provied personalized information.\n",
        "6.   Using automatic or semi-automatic summarization systems enables commercial abstract services to increase the number of text documents they are able to process.\n",
        "\n",
        "\n",
        "\n"
      ]
    },
    {
      "cell_type": "markdown",
      "metadata": {
        "id": "s9xxDWxC-1eM"
      },
      "source": [
        "\n",
        "\n",
        "**How to do text summarization**\n",
        "\n",
        "\n",
        "*   Text cleaning\n",
        "*   Word tokenzation\n",
        "*   Sentence tokenization\n",
        "*   Word-frequency table\n",
        "*   Summarization \n",
        " \n",
        "\n",
        "**Types of Summarization**\n",
        "\n",
        "- Based on the purpose:\n",
        "\n",
        "Generic, where the model makes no assumptions about the domain or content of the text to be summarized and treats all inputs as homogeneous. The majority of the work that has been done revolves around generic summarization.\n",
        "Domain-specific, where the model uses domain-specific knowledge to form a more accurate summary. For example, summarizing research papers of a specific domain, biomedical documents, etc.\n",
        "Query-based, where the summary only contains information that answers natural language questions about the input text.\n",
        "\n",
        "\n",
        "- Based on output type:\n",
        "\n",
        "Extractive, where important sentences are selected from the input text to form a summary. Most summarization approaches today are extractive in nature.\n",
        "Abstractive, where the model forms its own phrases and sentences to offer a more coherent summary, like what a human would generate. This approach is definitely more appealing, but much more difficult than extractive summarization.\n",
        "\n",
        "\n",
        "\n",
        "\n"
      ]
    },
    {
      "cell_type": "code",
      "execution_count": 1,
      "metadata": {
        "id": "2JqLo7pWYD1o"
      },
      "outputs": [],
      "source": [
        " text = \"\"\"\n",
        " Maria Sharapova has basically no friends as tennis players on the WTA Tour. The Russian player has no problems in openly speaking about it and in a recent interview she said: 'I don't really hide any feelings too much. \n",
        " I think everyone knows this is my job here. When I'm on the courts or when I'm on the court playing, I'm a competitor and I want to beat every single person whether they're in the locker room or across the net.\n",
        " So I'm not the one to strike up a conversation about the weather and know that in the next few minutes I have to go and try to win a tennis match. \n",
        " I'm a pretty competitive girl. I say my hellos, but I'm not sending any players flowers as well. Uhm, I'm not really friendly or close to many players.\n",
        " I have not a lot of friends away from the courts.' When she said she is not really close to a lot of players, is that something strategic that she is doing? Is it different on the men's tour than the women's tour? 'No, not at all.\n",
        " I think just because you're in the same sport doesn't mean that you have to be friends with everyone just because you're categorized, you're a tennis player, so you're going to get along with tennis players. \n",
        " I think every person has different interests. I have friends that have completely different jobs and interests, and I've met them in very different parts of my life.\n",
        " I think everyone just thinks because we're tennis players we should be the greatest of friends. But ultimately tennis is just a very small part of what we do. \n",
        " There are so many other things that we're interested in, that we do.'\n",
        " \"\"\""
      ]
    },
    {
      "cell_type": "markdown",
      "metadata": {
        "id": "ICuVSNbQY-dO"
      },
      "source": [
        "\n",
        "\n",
        "# Let's Get Started with SpaCy"
      ]
    },
    {
      "cell_type": "code",
      "execution_count": 39,
      "metadata": {
        "id": "6Ehfk3s8ZL0b"
      },
      "outputs": [],
      "source": [
        "# !pip install -U spacy\n",
        "# !python -m spacy download en_core_web_sm"
      ]
    },
    {
      "cell_type": "code",
      "execution_count": 40,
      "metadata": {
        "id": "gT1zyYMnZguO"
      },
      "outputs": [],
      "source": [
        "import spacy\n",
        "from spacy.lang.en.stop_words import STOP_WORDS\n",
        "from string import punctuation"
      ]
    },
    {
      "cell_type": "code",
      "execution_count": 4,
      "metadata": {
        "id": "JrR_ipOKZ4Lp"
      },
      "outputs": [],
      "source": [
        "stopwords = list(STOP_WORDS)"
      ]
    },
    {
      "cell_type": "code",
      "execution_count": 6,
      "metadata": {
        "id": "PrE3D0S6aC_s"
      },
      "outputs": [],
      "source": [
        "nlp = spacy.load('en_core_web_sm')"
      ]
    },
    {
      "cell_type": "code",
      "execution_count": 7,
      "metadata": {
        "id": "RntMWU8DaQDm"
      },
      "outputs": [],
      "source": [
        "doc = nlp(text)"
      ]
    },
    {
      "cell_type": "code",
      "source": [
        "doc"
      ],
      "metadata": {
        "colab": {
          "base_uri": "https://localhost:8080/"
        },
        "id": "eiq3HRXqQXd3",
        "outputId": "61d4a514-4dfd-45df-fee0-9d8297026d63"
      },
      "execution_count": 8,
      "outputs": [
        {
          "output_type": "execute_result",
          "data": {
            "text/plain": [
              "\n",
              "Maria Sharapova has basically no friends as tennis players on the WTA Tour. The Russian player has no problems in openly speaking about it and in a recent interview she said: 'I don't really hide any feelings too much. \n",
              "I think everyone knows this is my job here. When I'm on the courts or when I'm on the court playing, I'm a competitor and I want to beat every single person whether they're in the locker room or across the net.\n",
              "So I'm not the one to strike up a conversation about the weather and know that in the next few minutes I have to go and try to win a tennis match. \n",
              "I'm a pretty competitive girl. I say my hellos, but I'm not sending any players flowers as well. Uhm, I'm not really friendly or close to many players.\n",
              "I have not a lot of friends away from the courts.' When she said she is not really close to a lot of players, is that something strategic that she is doing? Is it different on the men's tour than the women's tour? 'No, not at all.\n",
              "I think just because you're in the same sport doesn't mean that you have to be friends with everyone just because you're categorized, you're a tennis player, so you're going to get along with tennis players. \n",
              "I think every person has different interests. I have friends that have completely different jobs and interests, and I've met them in very different parts of my life.\n",
              "I think everyone just thinks because we're tennis players we should be the greatest of friends. But ultimately tennis is just a very small part of what we do. \n",
              "There are so many other things that we're interested in, that we do.'"
            ]
          },
          "metadata": {},
          "execution_count": 8
        }
      ]
    },
    {
      "cell_type": "code",
      "source": [
        "print([token.text for token in doc])\n",
        "print([token.lemma_ for token in doc])\n",
        "print([token.pos_ for token in doc])\n",
        "print([token.dep_ for token in doc])"
      ],
      "metadata": {
        "colab": {
          "base_uri": "https://localhost:8080/"
        },
        "id": "LJXQRKwbQqsd",
        "outputId": "fb9dfca8-2b08-414c-d281-ca87bac55409"
      },
      "execution_count": 14,
      "outputs": [
        {
          "output_type": "stream",
          "name": "stdout",
          "text": [
            "['\\n', 'Maria', 'Sharapova', 'has', 'basically', 'no', 'friends', 'as', 'tennis', 'players', 'on', 'the', 'WTA', 'Tour', '.', 'The', 'Russian', 'player', 'has', 'no', 'problems', 'in', 'openly', 'speaking', 'about', 'it', 'and', 'in', 'a', 'recent', 'interview', 'she', 'said', ':', \"'\", 'I', 'do', \"n't\", 'really', 'hide', 'any', 'feelings', 'too', 'much', '.', '\\n', 'I', 'think', 'everyone', 'knows', 'this', 'is', 'my', 'job', 'here', '.', 'When', 'I', \"'m\", 'on', 'the', 'courts', 'or', 'when', 'I', \"'m\", 'on', 'the', 'court', 'playing', ',', 'I', \"'m\", 'a', 'competitor', 'and', 'I', 'want', 'to', 'beat', 'every', 'single', 'person', 'whether', 'they', \"'re\", 'in', 'the', 'locker', 'room', 'or', 'across', 'the', 'net', '.', '\\n', 'So', 'I', \"'m\", 'not', 'the', 'one', 'to', 'strike', 'up', 'a', 'conversation', 'about', 'the', 'weather', 'and', 'know', 'that', 'in', 'the', 'next', 'few', 'minutes', 'I', 'have', 'to', 'go', 'and', 'try', 'to', 'win', 'a', 'tennis', 'match', '.', '\\n', 'I', \"'m\", 'a', 'pretty', 'competitive', 'girl', '.', 'I', 'say', 'my', 'hellos', ',', 'but', 'I', \"'m\", 'not', 'sending', 'any', 'players', 'flowers', 'as', 'well', '.', 'Uhm', ',', 'I', \"'m\", 'not', 'really', 'friendly', 'or', 'close', 'to', 'many', 'players', '.', '\\n', 'I', 'have', 'not', 'a', 'lot', 'of', 'friends', 'away', 'from', 'the', 'courts', '.', \"'\", 'When', 'she', 'said', 'she', 'is', 'not', 'really', 'close', 'to', 'a', 'lot', 'of', 'players', ',', 'is', 'that', 'something', 'strategic', 'that', 'she', 'is', 'doing', '?', 'Is', 'it', 'different', 'on', 'the', 'men', \"'s\", 'tour', 'than', 'the', 'women', \"'s\", 'tour', '?', \"'\", 'No', ',', 'not', 'at', 'all', '.', '\\n', 'I', 'think', 'just', 'because', 'you', \"'re\", 'in', 'the', 'same', 'sport', 'does', \"n't\", 'mean', 'that', 'you', 'have', 'to', 'be', 'friends', 'with', 'everyone', 'just', 'because', 'you', \"'re\", 'categorized', ',', 'you', \"'re\", 'a', 'tennis', 'player', ',', 'so', 'you', \"'re\", 'going', 'to', 'get', 'along', 'with', 'tennis', 'players', '.', '\\n', 'I', 'think', 'every', 'person', 'has', 'different', 'interests', '.', 'I', 'have', 'friends', 'that', 'have', 'completely', 'different', 'jobs', 'and', 'interests', ',', 'and', 'I', \"'ve\", 'met', 'them', 'in', 'very', 'different', 'parts', 'of', 'my', 'life', '.', '\\n', 'I', 'think', 'everyone', 'just', 'thinks', 'because', 'we', \"'re\", 'tennis', 'players', 'we', 'should', 'be', 'the', 'greatest', 'of', 'friends', '.', 'But', 'ultimately', 'tennis', 'is', 'just', 'a', 'very', 'small', 'part', 'of', 'what', 'we', 'do', '.', '\\n', 'There', 'are', 'so', 'many', 'other', 'things', 'that', 'we', \"'re\", 'interested', 'in', ',', 'that', 'we', 'do', '.', \"'\", '\\n']\n",
            "['\\n', 'Maria', 'Sharapova', 'have', 'basically', 'no', 'friend', 'as', 'tennis', 'player', 'on', 'the', 'WTA', 'Tour', '.', 'the', 'russian', 'player', 'have', 'no', 'problem', 'in', 'openly', 'speak', 'about', 'it', 'and', 'in', 'a', 'recent', 'interview', 'she', 'say', ':', \"'\", 'I', 'do', 'not', 'really', 'hide', 'any', 'feeling', 'too', 'much', '.', '\\n', 'I', 'think', 'everyone', 'know', 'this', 'be', 'my', 'job', 'here', '.', 'when', 'I', 'be', 'on', 'the', 'court', 'or', 'when', 'I', 'be', 'on', 'the', 'court', 'playing', ',', 'I', 'be', 'a', 'competitor', 'and', 'I', 'want', 'to', 'beat', 'every', 'single', 'person', 'whether', 'they', 'be', 'in', 'the', 'locker', 'room', 'or', 'across', 'the', 'net', '.', '\\n', 'so', 'I', 'be', 'not', 'the', 'one', 'to', 'strike', 'up', 'a', 'conversation', 'about', 'the', 'weather', 'and', 'know', 'that', 'in', 'the', 'next', 'few', 'minute', 'I', 'have', 'to', 'go', 'and', 'try', 'to', 'win', 'a', 'tennis', 'match', '.', '\\n', 'I', 'be', 'a', 'pretty', 'competitive', 'girl', '.', 'I', 'say', 'my', 'hello', ',', 'but', 'I', 'be', 'not', 'send', 'any', 'player', 'flower', 'as', 'well', '.', 'uhm', ',', 'I', 'be', 'not', 'really', 'friendly', 'or', 'close', 'to', 'many', 'player', '.', '\\n', 'I', 'have', 'not', 'a', 'lot', 'of', 'friend', 'away', 'from', 'the', 'court', '.', \"'\", 'when', 'she', 'say', 'she', 'be', 'not', 'really', 'close', 'to', 'a', 'lot', 'of', 'player', ',', 'be', 'that', 'something', 'strategic', 'that', 'she', 'be', 'do', '?', 'be', 'it', 'different', 'on', 'the', 'man', \"'s\", 'tour', 'than', 'the', 'woman', \"'s\", 'tour', '?', \"'\", 'no', ',', 'not', 'at', 'all', '.', '\\n', 'I', 'think', 'just', 'because', 'you', 'be', 'in', 'the', 'same', 'sport', 'do', 'not', 'mean', 'that', 'you', 'have', 'to', 'be', 'friend', 'with', 'everyone', 'just', 'because', 'you', 'be', 'categorize', ',', 'you', 'be', 'a', 'tennis', 'player', ',', 'so', 'you', 'be', 'go', 'to', 'get', 'along', 'with', 'tennis', 'player', '.', '\\n', 'I', 'think', 'every', 'person', 'have', 'different', 'interest', '.', 'I', 'have', 'friend', 'that', 'have', 'completely', 'different', 'job', 'and', 'interest', ',', 'and', 'I', \"'ve\", 'meet', 'they', 'in', 'very', 'different', 'part', 'of', 'my', 'life', '.', '\\n', 'I', 'think', 'everyone', 'just', 'think', 'because', 'we', 'be', 'tennis', 'player', 'we', 'should', 'be', 'the', 'great', 'of', 'friend', '.', 'but', 'ultimately', 'tennis', 'be', 'just', 'a', 'very', 'small', 'part', 'of', 'what', 'we', 'do', '.', '\\n', 'there', 'be', 'so', 'many', 'other', 'thing', 'that', 'we', 'be', 'interested', 'in', ',', 'that', 'we', 'do', '.', \"'\", '\\n']\n",
            "['SPACE', 'PROPN', 'PROPN', 'VERB', 'ADV', 'DET', 'NOUN', 'ADP', 'NOUN', 'NOUN', 'ADP', 'DET', 'PROPN', 'PROPN', 'PUNCT', 'DET', 'ADJ', 'NOUN', 'VERB', 'DET', 'NOUN', 'ADP', 'ADV', 'VERB', 'ADP', 'PRON', 'CCONJ', 'ADP', 'DET', 'ADJ', 'NOUN', 'PRON', 'VERB', 'PUNCT', 'PUNCT', 'PRON', 'AUX', 'PART', 'ADV', 'VERB', 'DET', 'NOUN', 'ADV', 'ADV', 'PUNCT', 'SPACE', 'PRON', 'VERB', 'PRON', 'VERB', 'PRON', 'AUX', 'PRON', 'NOUN', 'ADV', 'PUNCT', 'SCONJ', 'PRON', 'AUX', 'ADP', 'DET', 'NOUN', 'CCONJ', 'SCONJ', 'PRON', 'AUX', 'ADP', 'DET', 'NOUN', 'NOUN', 'PUNCT', 'PRON', 'AUX', 'DET', 'NOUN', 'CCONJ', 'PRON', 'VERB', 'PART', 'VERB', 'DET', 'ADJ', 'NOUN', 'SCONJ', 'PRON', 'AUX', 'ADP', 'DET', 'NOUN', 'NOUN', 'CCONJ', 'ADP', 'DET', 'NOUN', 'PUNCT', 'SPACE', 'ADV', 'PRON', 'AUX', 'PART', 'DET', 'NOUN', 'PART', 'VERB', 'ADP', 'DET', 'NOUN', 'ADP', 'DET', 'NOUN', 'CCONJ', 'VERB', 'SCONJ', 'ADP', 'DET', 'ADJ', 'ADJ', 'NOUN', 'PRON', 'VERB', 'PART', 'VERB', 'CCONJ', 'VERB', 'PART', 'VERB', 'DET', 'NOUN', 'NOUN', 'PUNCT', 'SPACE', 'PRON', 'AUX', 'DET', 'ADV', 'ADJ', 'NOUN', 'PUNCT', 'PRON', 'VERB', 'PRON', 'NOUN', 'PUNCT', 'CCONJ', 'PRON', 'AUX', 'PART', 'VERB', 'DET', 'NOUN', 'NOUN', 'ADV', 'ADV', 'PUNCT', 'INTJ', 'PUNCT', 'PRON', 'AUX', 'PART', 'ADV', 'ADJ', 'CCONJ', 'ADJ', 'ADP', 'ADJ', 'NOUN', 'PUNCT', 'SPACE', 'PRON', 'VERB', 'PART', 'DET', 'NOUN', 'ADP', 'NOUN', 'ADV', 'ADP', 'DET', 'NOUN', 'PUNCT', 'PUNCT', 'SCONJ', 'PRON', 'VERB', 'PRON', 'AUX', 'PART', 'ADV', 'ADJ', 'ADP', 'DET', 'NOUN', 'ADP', 'NOUN', 'PUNCT', 'AUX', 'SCONJ', 'PRON', 'ADJ', 'SCONJ', 'PRON', 'AUX', 'VERB', 'PUNCT', 'AUX', 'PRON', 'ADJ', 'ADP', 'DET', 'NOUN', 'PART', 'NOUN', 'ADP', 'DET', 'NOUN', 'PART', 'NOUN', 'PUNCT', 'PUNCT', 'INTJ', 'PUNCT', 'PART', 'ADV', 'ADV', 'PUNCT', 'SPACE', 'PRON', 'VERB', 'ADV', 'SCONJ', 'PRON', 'AUX', 'ADP', 'DET', 'ADJ', 'NOUN', 'AUX', 'PART', 'VERB', 'SCONJ', 'PRON', 'VERB', 'PART', 'AUX', 'NOUN', 'ADP', 'PRON', 'ADV', 'SCONJ', 'PRON', 'AUX', 'VERB', 'PUNCT', 'PRON', 'AUX', 'DET', 'NOUN', 'NOUN', 'PUNCT', 'ADV', 'PRON', 'AUX', 'VERB', 'PART', 'VERB', 'ADP', 'ADP', 'NOUN', 'NOUN', 'PUNCT', 'SPACE', 'PRON', 'VERB', 'DET', 'NOUN', 'VERB', 'ADJ', 'NOUN', 'PUNCT', 'PRON', 'VERB', 'NOUN', 'PRON', 'VERB', 'ADV', 'ADJ', 'NOUN', 'CCONJ', 'NOUN', 'PUNCT', 'CCONJ', 'PRON', 'AUX', 'VERB', 'PRON', 'ADP', 'ADV', 'ADJ', 'NOUN', 'ADP', 'PRON', 'NOUN', 'PUNCT', 'SPACE', 'PRON', 'VERB', 'PRON', 'ADV', 'VERB', 'SCONJ', 'PRON', 'AUX', 'NOUN', 'NOUN', 'PRON', 'AUX', 'AUX', 'DET', 'ADJ', 'ADP', 'NOUN', 'PUNCT', 'CCONJ', 'ADV', 'NOUN', 'AUX', 'ADV', 'DET', 'ADV', 'ADJ', 'NOUN', 'ADP', 'PRON', 'PRON', 'AUX', 'PUNCT', 'SPACE', 'PRON', 'VERB', 'ADV', 'ADJ', 'ADJ', 'NOUN', 'PRON', 'PRON', 'AUX', 'ADJ', 'ADP', 'PUNCT', 'SCONJ', 'PRON', 'VERB', 'PUNCT', 'PUNCT', 'SPACE']\n",
            "['dep', 'compound', 'nsubj', 'ROOT', 'advmod', 'det', 'dobj', 'prep', 'compound', 'pobj', 'prep', 'det', 'compound', 'pobj', 'punct', 'det', 'amod', 'nsubj', 'ccomp', 'det', 'dobj', 'prep', 'advmod', 'pcomp', 'prep', 'pobj', 'cc', 'prep', 'det', 'amod', 'pobj', 'nsubj', 'ROOT', 'punct', 'punct', 'nsubj', 'aux', 'neg', 'advmod', 'ccomp', 'det', 'dobj', 'advmod', 'advmod', 'punct', 'dep', 'nsubj', 'ROOT', 'nsubj', 'ccomp', 'nsubj', 'ccomp', 'poss', 'attr', 'advmod', 'punct', 'advmod', 'nsubj', 'advcl', 'prep', 'det', 'pobj', 'cc', 'advmod', 'nsubj', 'advcl', 'prep', 'det', 'compound', 'pobj', 'punct', 'nsubj', 'ROOT', 'det', 'attr', 'cc', 'nsubj', 'conj', 'aux', 'xcomp', 'det', 'amod', 'dobj', 'mark', 'nsubj', 'ccomp', 'prep', 'det', 'compound', 'pobj', 'cc', 'conj', 'det', 'pobj', 'punct', 'dep', 'advmod', 'nsubj', 'ROOT', 'neg', 'det', 'attr', 'aux', 'relcl', 'prt', 'det', 'dobj', 'prep', 'det', 'pobj', 'cc', 'conj', 'mark', 'prep', 'det', 'amod', 'amod', 'pobj', 'nsubj', 'ccomp', 'aux', 'xcomp', 'cc', 'conj', 'aux', 'xcomp', 'det', 'compound', 'dobj', 'punct', 'dep', 'nsubj', 'ROOT', 'det', 'advmod', 'amod', 'attr', 'punct', 'nsubj', 'ROOT', 'poss', 'dobj', 'punct', 'cc', 'nsubj', 'aux', 'neg', 'conj', 'det', 'dobj', 'dobj', 'advmod', 'advmod', 'punct', 'intj', 'punct', 'nsubj', 'ROOT', 'neg', 'advmod', 'acomp', 'cc', 'conj', 'prep', 'amod', 'pobj', 'punct', 'dep', 'nsubj', 'ROOT', 'neg', 'det', 'dobj', 'prep', 'pobj', 'advmod', 'prep', 'det', 'pobj', 'punct', 'punct', 'advmod', 'nsubj', 'advcl', 'nsubj', 'ccomp', 'neg', 'advmod', 'acomp', 'prep', 'det', 'pobj', 'prep', 'pobj', 'punct', 'ROOT', 'nsubj', 'attr', 'amod', 'dobj', 'nsubj', 'aux', 'relcl', 'punct', 'ROOT', 'nsubj', 'acomp', 'prep', 'det', 'poss', 'case', 'pobj', 'prep', 'det', 'poss', 'case', 'pobj', 'punct', 'ROOT', 'ROOT', 'punct', 'neg', 'advmod', 'advmod', 'punct', 'dep', 'nsubj', 'ROOT', 'advmod', 'mark', 'nsubj', 'advcl', 'prep', 'det', 'amod', 'pobj', 'aux', 'neg', 'ccomp', 'mark', 'nsubj', 'ccomp', 'aux', 'xcomp', 'attr', 'prep', 'pobj', 'advmod', 'mark', 'nsubjpass', 'auxpass', 'advcl', 'punct', 'nsubj', 'ccomp', 'det', 'compound', 'attr', 'punct', 'advmod', 'nsubj', 'aux', 'ccomp', 'aux', 'xcomp', 'prt', 'prep', 'compound', 'pobj', 'punct', 'dep', 'nsubj', 'ROOT', 'det', 'nsubj', 'ccomp', 'amod', 'dobj', 'punct', 'nsubj', 'ROOT', 'dobj', 'nsubj', 'relcl', 'advmod', 'amod', 'dobj', 'cc', 'conj', 'punct', 'cc', 'nsubj', 'aux', 'conj', 'dobj', 'prep', 'advmod', 'amod', 'pobj', 'prep', 'poss', 'pobj', 'punct', 'dep', 'nsubj', 'ROOT', 'nsubj', 'advmod', 'ccomp', 'mark', 'nsubj', 'advcl', 'compound', 'attr', 'nsubj', 'aux', 'ccomp', 'det', 'attr', 'prep', 'pobj', 'punct', 'cc', 'advmod', 'nsubj', 'ROOT', 'advmod', 'det', 'advmod', 'amod', 'attr', 'prep', 'dobj', 'nsubj', 'pcomp', 'punct', 'dep', 'expl', 'ROOT', 'advmod', 'amod', 'amod', 'attr', 'pobj', 'nsubj', 'relcl', 'acomp', 'prep', 'punct', 'dobj', 'nsubj', 'relcl', 'punct', 'punct', 'dep']\n"
          ]
        }
      ]
    },
    {
      "cell_type": "code",
      "execution_count": 15,
      "metadata": {
        "colab": {
          "base_uri": "https://localhost:8080/"
        },
        "id": "Pqre-o8AaXRA",
        "outputId": "24d17266-3b47-4889-8308-521682eab682"
      },
      "outputs": [
        {
          "output_type": "stream",
          "name": "stdout",
          "text": [
            "['\\n', 'Maria', 'Sharapova', 'has', 'basically', 'no', 'friends', 'as', 'tennis', 'players', 'on', 'the', 'WTA', 'Tour', '.', 'The', 'Russian', 'player', 'has', 'no', 'problems', 'in', 'openly', 'speaking', 'about', 'it', 'and', 'in', 'a', 'recent', 'interview', 'she', 'said', ':', \"'\", 'I', 'do', \"n't\", 'really', 'hide', 'any', 'feelings', 'too', 'much', '.', '\\n', 'I', 'think', 'everyone', 'knows', 'this', 'is', 'my', 'job', 'here', '.', 'When', 'I', \"'m\", 'on', 'the', 'courts', 'or', 'when', 'I', \"'m\", 'on', 'the', 'court', 'playing', ',', 'I', \"'m\", 'a', 'competitor', 'and', 'I', 'want', 'to', 'beat', 'every', 'single', 'person', 'whether', 'they', \"'re\", 'in', 'the', 'locker', 'room', 'or', 'across', 'the', 'net', '.', '\\n', 'So', 'I', \"'m\", 'not', 'the', 'one', 'to', 'strike', 'up', 'a', 'conversation', 'about', 'the', 'weather', 'and', 'know', 'that', 'in', 'the', 'next', 'few', 'minutes', 'I', 'have', 'to', 'go', 'and', 'try', 'to', 'win', 'a', 'tennis', 'match', '.', '\\n', 'I', \"'m\", 'a', 'pretty', 'competitive', 'girl', '.', 'I', 'say', 'my', 'hellos', ',', 'but', 'I', \"'m\", 'not', 'sending', 'any', 'players', 'flowers', 'as', 'well', '.', 'Uhm', ',', 'I', \"'m\", 'not', 'really', 'friendly', 'or', 'close', 'to', 'many', 'players', '.', '\\n', 'I', 'have', 'not', 'a', 'lot', 'of', 'friends', 'away', 'from', 'the', 'courts', '.', \"'\", 'When', 'she', 'said', 'she', 'is', 'not', 'really', 'close', 'to', 'a', 'lot', 'of', 'players', ',', 'is', 'that', 'something', 'strategic', 'that', 'she', 'is', 'doing', '?', 'Is', 'it', 'different', 'on', 'the', 'men', \"'s\", 'tour', 'than', 'the', 'women', \"'s\", 'tour', '?', \"'\", 'No', ',', 'not', 'at', 'all', '.', '\\n', 'I', 'think', 'just', 'because', 'you', \"'re\", 'in', 'the', 'same', 'sport', 'does', \"n't\", 'mean', 'that', 'you', 'have', 'to', 'be', 'friends', 'with', 'everyone', 'just', 'because', 'you', \"'re\", 'categorized', ',', 'you', \"'re\", 'a', 'tennis', 'player', ',', 'so', 'you', \"'re\", 'going', 'to', 'get', 'along', 'with', 'tennis', 'players', '.', '\\n', 'I', 'think', 'every', 'person', 'has', 'different', 'interests', '.', 'I', 'have', 'friends', 'that', 'have', 'completely', 'different', 'jobs', 'and', 'interests', ',', 'and', 'I', \"'ve\", 'met', 'them', 'in', 'very', 'different', 'parts', 'of', 'my', 'life', '.', '\\n', 'I', 'think', 'everyone', 'just', 'thinks', 'because', 'we', \"'re\", 'tennis', 'players', 'we', 'should', 'be', 'the', 'greatest', 'of', 'friends', '.', 'But', 'ultimately', 'tennis', 'is', 'just', 'a', 'very', 'small', 'part', 'of', 'what', 'we', 'do', '.', '\\n', 'There', 'are', 'so', 'many', 'other', 'things', 'that', 'we', \"'re\", 'interested', 'in', ',', 'that', 'we', 'do', '.', \"'\", '\\n']\n"
          ]
        }
      ],
      "source": [
        "tokens = [token.text for token in doc]\n",
        "print(tokens)"
      ]
    },
    {
      "cell_type": "code",
      "execution_count": 16,
      "metadata": {
        "colab": {
          "base_uri": "https://localhost:8080/",
          "height": 35
        },
        "id": "Tn2Uv-F3HDpw",
        "outputId": "b332d772-f579-4db4-9732-2e94c648ca6f"
      },
      "outputs": [
        {
          "output_type": "execute_result",
          "data": {
            "text/plain": [
              "'!\"#$%&\\'()*+,-./:;<=>?@[\\\\]^_`{|}~\\n'"
            ],
            "application/vnd.google.colaboratory.intrinsic+json": {
              "type": "string"
            }
          },
          "metadata": {},
          "execution_count": 16
        }
      ],
      "source": [
        "punctuation = punctuation + '\\n'\n",
        "punctuation"
      ]
    },
    {
      "cell_type": "code",
      "execution_count": 17,
      "metadata": {
        "id": "huSfsmdrWK84"
      },
      "outputs": [],
      "source": [
        "word_frequencies = {}\n",
        "for word in doc:\n",
        "  if word.text.lower() not in stopwords:\n",
        "    if word.text.lower() not in punctuation:\n",
        "      if word.text not in word_frequencies.keys():\n",
        "        word_frequencies[word.text] = 1\n",
        "      else:\n",
        "        word_frequencies[word.text] += 1"
      ]
    },
    {
      "cell_type": "code",
      "execution_count": 18,
      "metadata": {
        "colab": {
          "base_uri": "https://localhost:8080/"
        },
        "id": "EgiBcbxFXZj2",
        "outputId": "c08a606c-9e8c-4f81-d46a-c6db0596ae11"
      },
      "outputs": [
        {
          "output_type": "stream",
          "name": "stdout",
          "text": [
            "{'Maria': 1, 'Sharapova': 1, 'basically': 1, 'friends': 5, 'tennis': 6, 'players': 6, 'WTA': 1, 'Tour': 1, 'Russian': 1, 'player': 2, 'problems': 1, 'openly': 1, 'speaking': 1, 'recent': 1, 'interview': 1, 'said': 2, 'hide': 1, 'feelings': 1, 'think': 4, 'knows': 1, 'job': 1, 'courts': 2, 'court': 1, 'playing': 1, 'competitor': 1, 'want': 1, 'beat': 1, 'single': 1, 'person': 2, 'locker': 1, 'room': 1, 'net': 1, 'strike': 1, 'conversation': 1, 'weather': 1, 'know': 1, 'minutes': 1, 'try': 1, 'win': 1, 'match': 1, 'pretty': 1, 'competitive': 1, 'girl': 1, 'hellos': 1, 'sending': 1, 'flowers': 1, 'Uhm': 1, 'friendly': 1, 'close': 2, 'lot': 2, 'away': 1, 'strategic': 1, 'different': 4, 'men': 1, 'tour': 2, 'women': 1, 'sport': 1, 'mean': 1, 'categorized': 1, 'going': 1, 'interests': 2, 'completely': 1, 'jobs': 1, 'met': 1, 'parts': 1, 'life': 1, 'thinks': 1, 'greatest': 1, 'ultimately': 1, 'small': 1, 'things': 1, 'interested': 1}\n"
          ]
        }
      ],
      "source": [
        "print(word_frequencies)"
      ]
    },
    {
      "cell_type": "code",
      "execution_count": 19,
      "metadata": {
        "id": "59QpWTlkX6UC"
      },
      "outputs": [],
      "source": [
        "max_frequency = max(word_frequencies.values())"
      ]
    },
    {
      "cell_type": "code",
      "execution_count": 20,
      "metadata": {
        "colab": {
          "base_uri": "https://localhost:8080/"
        },
        "id": "oIQGF1vAYGoD",
        "outputId": "0c4fd5c1-4a7c-4d01-bb12-bde6230c5eb2"
      },
      "outputs": [
        {
          "output_type": "execute_result",
          "data": {
            "text/plain": [
              "6"
            ]
          },
          "metadata": {},
          "execution_count": 20
        }
      ],
      "source": [
        "max_frequency"
      ]
    },
    {
      "cell_type": "code",
      "execution_count": 21,
      "metadata": {
        "id": "Gx_S5rRXYX2H"
      },
      "outputs": [],
      "source": [
        "for word in word_frequencies.keys():\n",
        "  word_frequencies[word] = word_frequencies[word]/max_frequency"
      ]
    },
    {
      "cell_type": "code",
      "execution_count": 22,
      "metadata": {
        "colab": {
          "base_uri": "https://localhost:8080/"
        },
        "id": "H0QbAJA5YuG0",
        "outputId": "2b5a5823-6952-49f9-e4a6-ccca545d372f"
      },
      "outputs": [
        {
          "output_type": "stream",
          "name": "stdout",
          "text": [
            "{'Maria': 0.16666666666666666, 'Sharapova': 0.16666666666666666, 'basically': 0.16666666666666666, 'friends': 0.8333333333333334, 'tennis': 1.0, 'players': 1.0, 'WTA': 0.16666666666666666, 'Tour': 0.16666666666666666, 'Russian': 0.16666666666666666, 'player': 0.3333333333333333, 'problems': 0.16666666666666666, 'openly': 0.16666666666666666, 'speaking': 0.16666666666666666, 'recent': 0.16666666666666666, 'interview': 0.16666666666666666, 'said': 0.3333333333333333, 'hide': 0.16666666666666666, 'feelings': 0.16666666666666666, 'think': 0.6666666666666666, 'knows': 0.16666666666666666, 'job': 0.16666666666666666, 'courts': 0.3333333333333333, 'court': 0.16666666666666666, 'playing': 0.16666666666666666, 'competitor': 0.16666666666666666, 'want': 0.16666666666666666, 'beat': 0.16666666666666666, 'single': 0.16666666666666666, 'person': 0.3333333333333333, 'locker': 0.16666666666666666, 'room': 0.16666666666666666, 'net': 0.16666666666666666, 'strike': 0.16666666666666666, 'conversation': 0.16666666666666666, 'weather': 0.16666666666666666, 'know': 0.16666666666666666, 'minutes': 0.16666666666666666, 'try': 0.16666666666666666, 'win': 0.16666666666666666, 'match': 0.16666666666666666, 'pretty': 0.16666666666666666, 'competitive': 0.16666666666666666, 'girl': 0.16666666666666666, 'hellos': 0.16666666666666666, 'sending': 0.16666666666666666, 'flowers': 0.16666666666666666, 'Uhm': 0.16666666666666666, 'friendly': 0.16666666666666666, 'close': 0.3333333333333333, 'lot': 0.3333333333333333, 'away': 0.16666666666666666, 'strategic': 0.16666666666666666, 'different': 0.6666666666666666, 'men': 0.16666666666666666, 'tour': 0.3333333333333333, 'women': 0.16666666666666666, 'sport': 0.16666666666666666, 'mean': 0.16666666666666666, 'categorized': 0.16666666666666666, 'going': 0.16666666666666666, 'interests': 0.3333333333333333, 'completely': 0.16666666666666666, 'jobs': 0.16666666666666666, 'met': 0.16666666666666666, 'parts': 0.16666666666666666, 'life': 0.16666666666666666, 'thinks': 0.16666666666666666, 'greatest': 0.16666666666666666, 'ultimately': 0.16666666666666666, 'small': 0.16666666666666666, 'things': 0.16666666666666666, 'interested': 0.16666666666666666}\n"
          ]
        }
      ],
      "source": [
        "print(word_frequencies)"
      ]
    },
    {
      "cell_type": "code",
      "source": [
        "doc.sents"
      ],
      "metadata": {
        "colab": {
          "base_uri": "https://localhost:8080/"
        },
        "id": "xeCdk1WASRLM",
        "outputId": "46292016-9f79-4dfc-ab2a-0adf92125206"
      },
      "execution_count": 23,
      "outputs": [
        {
          "output_type": "execute_result",
          "data": {
            "text/plain": [
              "<generator at 0x7f514333cfe0>"
            ]
          },
          "metadata": {},
          "execution_count": 23
        }
      ]
    },
    {
      "cell_type": "code",
      "execution_count": 24,
      "metadata": {
        "colab": {
          "base_uri": "https://localhost:8080/"
        },
        "id": "d9vbQAUDZCUV",
        "outputId": "3c299a32-dad3-490d-c812-a2aef8690d57"
      },
      "outputs": [
        {
          "output_type": "stream",
          "name": "stdout",
          "text": [
            "[\n",
            "Maria Sharapova has basically no friends as tennis players on the WTA Tour., The Russian player has no problems in openly speaking about it and in a recent interview she said: 'I don't really hide any feelings too much. \n",
            ", I think everyone knows this is my job here., When I'm on the courts or when I'm on the court playing, I'm a competitor and I want to beat every single person whether they're in the locker room or across the net.\n",
            ", So I'm not the one to strike up a conversation about the weather and know that in the next few minutes I have to go and try to win a tennis match. \n",
            ", I'm a pretty competitive girl., I say my hellos, but I'm not sending any players flowers as well., Uhm, I'm not really friendly or close to many players.\n",
            ", I have not a lot of friends away from the courts.', When she said she is not really close to a lot of players, is that something strategic that she is doing?, Is it different on the men's tour than the women's tour?, ', No, not at all.\n",
            ", I think just because you're in the same sport doesn't mean that you have to be friends with everyone just because you're categorized, you're a tennis player, so you're going to get along with tennis players. \n",
            ", I think every person has different interests., I have friends that have completely different jobs and interests, and I've met them in very different parts of my life.\n",
            ", I think everyone just thinks because we're tennis players we should be the greatest of friends., But ultimately tennis is just a very small part of what we do. \n",
            ", There are so many other things that we're interested in, that we do.'\n",
            "]\n"
          ]
        }
      ],
      "source": [
        "sentence_tokens = [sent for sent in doc.sents]\n",
        "print(sentence_tokens)"
      ]
    },
    {
      "cell_type": "code",
      "execution_count": 28,
      "metadata": {
        "id": "-3Ee54JWZk5G"
      },
      "outputs": [],
      "source": [
        "sentence_scores = {}\n",
        "for sent in sentence_tokens:\n",
        "  for word in sent:\n",
        "    if word.text.lower() in word_frequencies.keys():\n",
        "      if sent not in sentence_scores.keys():\n",
        "        sentence_scores[sent] = word_frequencies[word.text.lower()]\n",
        "      else:\n",
        "        sentence_scores[sent] += word_frequencies[word.text.lower()]\n"
      ]
    },
    {
      "cell_type": "code",
      "execution_count": 26,
      "metadata": {
        "colab": {
          "base_uri": "https://localhost:8080/"
        },
        "id": "eHuAYodnIg5I",
        "outputId": "b967939f-91fd-4b76-9d50-455dffaa8e7c"
      },
      "outputs": [
        {
          "output_type": "execute_result",
          "data": {
            "text/plain": [
              "{\n",
              " Maria Sharapova has basically no friends as tennis players on the WTA Tour.: 3.3333333333333335,\n",
              " The Russian player has no problems in openly speaking about it and in a recent interview she said: 'I don't really hide any feelings too much. : 1.8333333333333333,\n",
              " I think everyone knows this is my job here.: 0.9999999999999999,\n",
              " When I'm on the courts or when I'm on the court playing, I'm a competitor and I want to beat every single person whether they're in the locker room or across the net.: 2.1666666666666665,\n",
              " So I'm not the one to strike up a conversation about the weather and know that in the next few minutes I have to go and try to win a tennis match. : 2.333333333333333,\n",
              " I'm a pretty competitive girl.: 0.5,\n",
              " I say my hellos, but I'm not sending any players flowers as well.: 1.5,\n",
              " Uhm, I'm not really friendly or close to many players.: 1.5,\n",
              " I have not a lot of friends away from the courts.': 1.6666666666666667,\n",
              " When she said she is not really close to a lot of players, is that something strategic that she is doing?: 2.1666666666666665,\n",
              " Is it different on the men's tour than the women's tour?: 1.6666666666666665,\n",
              " I think just because you're in the same sport doesn't mean that you have to be friends with everyone just because you're categorized, you're a tennis player, so you're going to get along with tennis players. : 5.5,\n",
              " I think every person has different interests.: 1.9999999999999998,\n",
              " I have friends that have completely different jobs and interests, and I've met them in very different parts of my life.: 3.3333333333333326,\n",
              " I think everyone just thinks because we're tennis players we should be the greatest of friends.: 3.833333333333333,\n",
              " But ultimately tennis is just a very small part of what we do. : 1.3333333333333335,\n",
              " There are so many other things that we're interested in, that we do.': 0.3333333333333333}"
            ]
          },
          "metadata": {},
          "execution_count": 26
        }
      ],
      "source": [
        "sentence_scores"
      ]
    },
    {
      "cell_type": "code",
      "execution_count": 30,
      "metadata": {
        "id": "-8BICcjZJCpU"
      },
      "outputs": [],
      "source": [
        "from heapq import nlargest"
      ]
    },
    {
      "cell_type": "code",
      "execution_count": 31,
      "metadata": {
        "colab": {
          "base_uri": "https://localhost:8080/"
        },
        "id": "n7QOpoldJTcY",
        "outputId": "c3e0c6e2-4fe4-4685-9351-37b9deab4cb9"
      },
      "outputs": [
        {
          "output_type": "execute_result",
          "data": {
            "text/plain": [
              "5"
            ]
          },
          "metadata": {},
          "execution_count": 31
        }
      ],
      "source": [
        "select_length = int(len(sentence_tokens)*0.3)\n",
        "select_length"
      ]
    },
    {
      "cell_type": "code",
      "execution_count": 32,
      "metadata": {
        "id": "0qYYWV82JygM"
      },
      "outputs": [],
      "source": [
        "summary = nlargest(select_length, sentence_scores, key = sentence_scores.get)"
      ]
    },
    {
      "cell_type": "code",
      "execution_count": 33,
      "metadata": {
        "colab": {
          "base_uri": "https://localhost:8080/"
        },
        "id": "TR5wQN6UKDrt",
        "outputId": "5dfcc2c2-d114-4e04-ba0d-ea956ad2aaac"
      },
      "outputs": [
        {
          "output_type": "execute_result",
          "data": {
            "text/plain": [
              "[I think just because you're in the same sport doesn't mean that you have to be friends with everyone just because you're categorized, you're a tennis player, so you're going to get along with tennis players. ,\n",
              " I think everyone just thinks because we're tennis players we should be the greatest of friends.,\n",
              " \n",
              " Maria Sharapova has basically no friends as tennis players on the WTA Tour.,\n",
              " I have friends that have completely different jobs and interests, and I've met them in very different parts of my life.,\n",
              " So I'm not the one to strike up a conversation about the weather and know that in the next few minutes I have to go and try to win a tennis match. ]"
            ]
          },
          "metadata": {},
          "execution_count": 33
        }
      ],
      "source": [
        "summary"
      ]
    },
    {
      "cell_type": "code",
      "execution_count": 34,
      "metadata": {
        "id": "k3cGqkqaKWnT"
      },
      "outputs": [],
      "source": [
        "final_summary = [word.text for word in summary]"
      ]
    },
    {
      "cell_type": "code",
      "source": [
        "len(final_summary)"
      ],
      "metadata": {
        "colab": {
          "base_uri": "https://localhost:8080/"
        },
        "id": "LqNG4LxrVh_y",
        "outputId": "45422282-a5c7-40fe-869c-b0270986b445"
      },
      "execution_count": 38,
      "outputs": [
        {
          "output_type": "execute_result",
          "data": {
            "text/plain": [
              "5"
            ]
          },
          "metadata": {},
          "execution_count": 38
        }
      ]
    },
    {
      "cell_type": "code",
      "execution_count": 35,
      "metadata": {
        "id": "1pw4ElbUKpMB"
      },
      "outputs": [],
      "source": [
        "summary = ' '.join(final_summary)"
      ]
    },
    {
      "cell_type": "code",
      "execution_count": 36,
      "metadata": {
        "colab": {
          "base_uri": "https://localhost:8080/"
        },
        "id": "Wa66EgbzLIgR",
        "outputId": "ba34d41d-0c75-460d-a68d-ee2aa2845fc4"
      },
      "outputs": [
        {
          "output_type": "stream",
          "name": "stdout",
          "text": [
            "\n",
            "Maria Sharapova has basically no friends as tennis players on the WTA Tour. The Russian player has no problems in openly speaking about it and in a recent interview she said: 'I don't really hide any feelings too much. \n",
            "I think everyone knows this is my job here. When I'm on the courts or when I'm on the court playing, I'm a competitor and I want to beat every single person whether they're in the locker room or across the net.\n",
            "So I'm not the one to strike up a conversation about the weather and know that in the next few minutes I have to go and try to win a tennis match. \n",
            "I'm a pretty competitive girl. I say my hellos, but I'm not sending any players flowers as well. Uhm, I'm not really friendly or close to many players.\n",
            "I have not a lot of friends away from the courts.' When she said she is not really close to a lot of players, is that something strategic that she is doing? Is it different on the men's tour than the women's tour? 'No, not at all.\n",
            "I think just because you're in the same sport doesn't mean that you have to be friends with everyone just because you're categorized, you're a tennis player, so you're going to get along with tennis players. \n",
            "I think every person has different interests. I have friends that have completely different jobs and interests, and I've met them in very different parts of my life.\n",
            "I think everyone just thinks because we're tennis players we should be the greatest of friends. But ultimately tennis is just a very small part of what we do. \n",
            "There are so many other things that we're interested in, that we do.'\n",
            "\n"
          ]
        }
      ],
      "source": [
        "print(text)"
      ]
    },
    {
      "cell_type": "code",
      "execution_count": 37,
      "metadata": {
        "colab": {
          "base_uri": "https://localhost:8080/"
        },
        "id": "no_-dxurKz1c",
        "outputId": "df6cf642-8c1e-406d-a43e-94db0f6ea538"
      },
      "outputs": [
        {
          "output_type": "stream",
          "name": "stdout",
          "text": [
            "I think just because you're in the same sport doesn't mean that you have to be friends with everyone just because you're categorized, you're a tennis player, so you're going to get along with tennis players. \n",
            " I think everyone just thinks because we're tennis players we should be the greatest of friends. \n",
            "Maria Sharapova has basically no friends as tennis players on the WTA Tour. I have friends that have completely different jobs and interests, and I've met them in very different parts of my life.\n",
            " So I'm not the one to strike up a conversation about the weather and know that in the next few minutes I have to go and try to win a tennis match. \n",
            "\n"
          ]
        }
      ],
      "source": [
        "print(summary)"
      ]
    }
  ],
  "metadata": {
    "colab": {
      "provenance": []
    },
    "kernelspec": {
      "display_name": "Python 3 (ipykernel)",
      "language": "python",
      "name": "python3"
    },
    "language_info": {
      "codemirror_mode": {
        "name": "ipython",
        "version": 3
      },
      "file_extension": ".py",
      "mimetype": "text/x-python",
      "name": "python",
      "nbconvert_exporter": "python",
      "pygments_lexer": "ipython3",
      "version": "3.9.13"
    }
  },
  "nbformat": 4,
  "nbformat_minor": 0
}